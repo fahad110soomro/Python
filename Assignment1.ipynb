{
 "cells": [
  {
   "cell_type": "code",
   "execution_count": 1,
   "id": "846893d2",
   "metadata": {},
   "outputs": [
    {
     "name": "stdout",
     "output_type": "stream",
     "text": [
      "Twinkle, twinkle, little star, \n",
      "\tHow I wonder what you are! \n",
      "\t\tUp above the world so high, \n",
      "\t\tLike a diamond in the sky. \n",
      "Twinkle, twinkle, little star, \n",
      "\tHow I wonder what you are\n"
     ]
    }
   ],
   "source": [
    "print(\"Twinkle, twinkle, little star, \\n\\tHow I wonder what you are! \\n\\t\\tUp above the world so high, \\n\\t\\tLike a diamond in the sky. \\nTwinkle, twinkle, little star, \\n\\tHow I wonder what you are\");"
   ]
  },
  {
   "cell_type": "code",
   "execution_count": 2,
   "id": "43d4c0db",
   "metadata": {},
   "outputs": [
    {
     "name": "stdout",
     "output_type": "stream",
     "text": [
      "3.9.7 (default, Sep 16 2021, 16:59:28) [MSC v.1916 64 bit (AMD64)]\n"
     ]
    }
   ],
   "source": [
    "import sys\n",
    "print(sys.version);"
   ]
  },
  {
   "cell_type": "code",
   "execution_count": 3,
   "id": "ba553ee0",
   "metadata": {},
   "outputs": [
    {
     "name": "stdout",
     "output_type": "stream",
     "text": [
      "Current date and time : \n",
      "2022-01-01 17:03:47\n"
     ]
    }
   ],
   "source": [
    "import datetime\n",
    "now = datetime.datetime.now()\n",
    "print (\"Current date and time : \")\n",
    "print (now.strftime(\"%Y-%m-%d %H:%M:%S\"))"
   ]
  },
  {
   "cell_type": "code",
   "execution_count": 4,
   "id": "80ab6aaf",
   "metadata": {},
   "outputs": [
    {
     "name": "stdout",
     "output_type": "stream",
     "text": [
      "Input the Radius of the Circle: 2\n",
      "The Area of the Circle with the Radius 2.0 is: 12.566370614359172\n"
     ]
    }
   ],
   "source": [
    "from math import pi\n",
    "rad = float(input(\"Input the Radius of the Circle: \"));\n",
    "print(\"The Area of the Circle with the Radius \" + str(rad) + \" is: \" + str(pi*rad**2));"
   ]
  },
  {
   "cell_type": "code",
   "execution_count": 5,
   "id": "5ac3dadb",
   "metadata": {},
   "outputs": [
    {
     "name": "stdout",
     "output_type": "stream",
     "text": [
      "Your First Name: Fahad\n",
      "Your Last Name: Soomro\n",
      "Soomro Fahad\n"
     ]
    }
   ],
   "source": [
    "firstname = input(\"Your First Name: \");\n",
    "lastname = input(\"Your Last Name: \");\n",
    "print(\"\"+lastname+ \" \" +firstname+\"\");"
   ]
  },
  {
   "cell_type": "code",
   "execution_count": 6,
   "id": "aaf5c6e8",
   "metadata": {},
   "outputs": [
    {
     "name": "stdout",
     "output_type": "stream",
     "text": [
      "Enter First Number : 2\n",
      "Enter Second Number : 3\n",
      "5.0\n"
     ]
    }
   ],
   "source": [
    "num1 = float(input(\"Enter First Number : \"));\n",
    "num2 = float(input(\"Enter Second Number : \"));\n",
    "sum = num1+num2;\n",
    "print(sum);"
   ]
  },
  {
   "cell_type": "code",
   "execution_count": null,
   "id": "50b70e2d",
   "metadata": {},
   "outputs": [],
   "source": []
  }
 ],
 "metadata": {
  "kernelspec": {
   "display_name": "Python 3 (ipykernel)",
   "language": "python",
   "name": "python3"
  },
  "language_info": {
   "codemirror_mode": {
    "name": "ipython",
    "version": 3
   },
   "file_extension": ".py",
   "mimetype": "text/x-python",
   "name": "python",
   "nbconvert_exporter": "python",
   "pygments_lexer": "ipython3",
   "version": "3.9.7"
  }
 },
 "nbformat": 4,
 "nbformat_minor": 5
}
